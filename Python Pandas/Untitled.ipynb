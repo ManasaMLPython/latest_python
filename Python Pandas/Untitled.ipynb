{
 "cells": [
  {
   "cell_type": "code",
   "execution_count": 5,
   "id": "9fb9090f-5547-45c0-acf3-8be9b5039f8b",
   "metadata": {},
   "outputs": [
    {
     "name": "stdout",
     "output_type": "stream",
     "text": [
      "   day  sales  moving_avg\n",
      "0    1    100         NaN\n",
      "1    2    120         NaN\n",
      "2    3    130  116.666667\n",
      "3    4    150  133.333333\n",
      "4    5    170  150.000000\n",
      "5    6    160  160.000000\n",
      "6    7    180  170.000000\n"
     ]
    }
   ],
   "source": [
    "import pandas as pd\n",
    "\n",
    "# Sample data\n",
    "data = {\n",
    "    'day': [1, 2, 3, 4, 5, 6, 7],\n",
    "    'sales': [100, 120, 130, 150, 170, 160, 180]\n",
    "}\n",
    "\n",
    "# Create DataFrame\n",
    "df = pd.DataFrame(data)\n",
    "\n",
    "# Define a function to calculate moving average\n",
    "def calculate_moving_average(df, column_name, window_size):\n",
    "    \"\"\"\n",
    "    Calculates the moving average of a numerical column in the DataFrame.\n",
    "\n",
    "    Parameters:\n",
    "        df (DataFrame): Input DataFrame\n",
    "        column_name (str): Column name to calculate moving average on\n",
    "        window_size (int): Size of the moving window\n",
    "\n",
    "    Returns:\n",
    "        Series: Moving average values\n",
    "    \"\"\"\n",
    "    return df[column_name].rolling(window=window_size).mean()\n",
    "\n",
    "# Use the function to calculate 3-day moving average\n",
    "df['moving_avg'] = calculate_moving_average(df, 'sales', 3)\n",
    "\n",
    "# Print the result\n",
    "print(df)"
   ]
  },
  {
   "cell_type": "code",
   "execution_count": null,
   "id": "42866a3a-7a26-4153-a559-cddcd2e3666b",
   "metadata": {},
   "outputs": [],
   "source": []
  }
 ],
 "metadata": {
  "kernelspec": {
   "display_name": "Python [conda env:base] *",
   "language": "python",
   "name": "conda-base-py"
  },
  "language_info": {
   "codemirror_mode": {
    "name": "ipython",
    "version": 3
   },
   "file_extension": ".py",
   "mimetype": "text/x-python",
   "name": "python",
   "nbconvert_exporter": "python",
   "pygments_lexer": "ipython3",
   "version": "3.12.7"
  }
 },
 "nbformat": 4,
 "nbformat_minor": 5
}
