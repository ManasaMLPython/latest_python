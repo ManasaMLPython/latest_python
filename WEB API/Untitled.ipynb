{
 "cells": [
  {
   "cell_type": "code",
   "execution_count": 1,
   "id": "f0740f8e-3afa-488d-88f5-6708c79f8de2",
   "metadata": {},
   "outputs": [],
   "source": [
    "import requests"
   ]
  },
  {
   "cell_type": "code",
   "execution_count": 2,
   "id": "2ebc9b1e-6f3f-4d2d-959d-ebd821a3ab17",
   "metadata": {},
   "outputs": [],
   "source": [
    "r=requests.get('https://xkcd.com/353/')"
   ]
  },
  {
   "cell_type": "code",
   "execution_count": 3,
   "id": "55f77d9e-af1b-475e-bef1-4b56fd76b408",
   "metadata": {},
   "outputs": [
    {
     "data": {
      "text/plain": [
       "<Response [200]>"
      ]
     },
     "execution_count": 3,
     "metadata": {},
     "output_type": "execute_result"
    }
   ],
   "source": [
    "r"
   ]
  },
  {
   "cell_type": "code",
   "execution_count": 4,
   "id": "4f4634c5-10cd-40f4-954f-eea51e2fecc3",
   "metadata": {},
   "outputs": [
    {
     "data": {
      "text/plain": [
       "['__attrs__',\n",
       " '__bool__',\n",
       " '__class__',\n",
       " '__delattr__',\n",
       " '__dict__',\n",
       " '__dir__',\n",
       " '__doc__',\n",
       " '__enter__',\n",
       " '__eq__',\n",
       " '__exit__',\n",
       " '__firstlineno__',\n",
       " '__format__',\n",
       " '__ge__',\n",
       " '__getattribute__',\n",
       " '__getstate__',\n",
       " '__gt__',\n",
       " '__hash__',\n",
       " '__init__',\n",
       " '__init_subclass__',\n",
       " '__iter__',\n",
       " '__le__',\n",
       " '__lt__',\n",
       " '__module__',\n",
       " '__ne__',\n",
       " '__new__',\n",
       " '__nonzero__',\n",
       " '__reduce__',\n",
       " '__reduce_ex__',\n",
       " '__repr__',\n",
       " '__setattr__',\n",
       " '__setstate__',\n",
       " '__sizeof__',\n",
       " '__static_attributes__',\n",
       " '__str__',\n",
       " '__subclasshook__',\n",
       " '__weakref__',\n",
       " '_content',\n",
       " '_content_consumed',\n",
       " '_next',\n",
       " 'apparent_encoding',\n",
       " 'close',\n",
       " 'connection',\n",
       " 'content',\n",
       " 'cookies',\n",
       " 'elapsed',\n",
       " 'encoding',\n",
       " 'headers',\n",
       " 'history',\n",
       " 'is_permanent_redirect',\n",
       " 'is_redirect',\n",
       " 'iter_content',\n",
       " 'iter_lines',\n",
       " 'json',\n",
       " 'links',\n",
       " 'next',\n",
       " 'ok',\n",
       " 'raise_for_status',\n",
       " 'raw',\n",
       " 'reason',\n",
       " 'request',\n",
       " 'status_code',\n",
       " 'text',\n",
       " 'url']"
      ]
     },
     "execution_count": 4,
     "metadata": {},
     "output_type": "execute_result"
    }
   ],
   "source": [
    "dir(r)"
   ]
  },
  {
   "cell_type": "code",
   "execution_count": 6,
   "id": "9fab430a-e1dc-42c7-82f9-797f9e8962d0",
   "metadata": {},
   "outputs": [],
   "source": [
    "#help(r)"
   ]
  },
  {
   "cell_type": "code",
   "execution_count": 16,
   "id": "9cd90d5e-0f2e-45d8-9ada-dc0b48eddae0",
   "metadata": {},
   "outputs": [],
   "source": [
    "#r.content"
   ]
  },
  {
   "cell_type": "code",
   "execution_count": 13,
   "id": "94d305e5-5fed-414f-aca9-7b2346921c40",
   "metadata": {},
   "outputs": [],
   "source": [
    "r=requests.get('https://imgs.xkcd.com/comics/python.png') # image url"
   ]
  },
  {
   "cell_type": "code",
   "execution_count": 17,
   "id": "88bcdf27-1f28-448e-9d42-056bf0965c74",
   "metadata": {},
   "outputs": [
    {
     "data": {
      "text/plain": [
       "<Response [200]>"
      ]
     },
     "execution_count": 17,
     "metadata": {},
     "output_type": "execute_result"
    }
   ],
   "source": [
    "r"
   ]
  },
  {
   "cell_type": "code",
   "execution_count": 18,
   "id": "7e94fce8-a4b9-40d8-98a4-73900030b130",
   "metadata": {},
   "outputs": [
    {
     "data": {
      "text/plain": [
       "200"
      ]
     },
     "execution_count": 18,
     "metadata": {},
     "output_type": "execute_result"
    }
   ],
   "source": [
    "r.status_code"
   ]
  },
  {
   "cell_type": "code",
   "execution_count": 19,
   "id": "72666f29-f02d-4d59-8e00-56a364b918fd",
   "metadata": {},
   "outputs": [
    {
     "data": {
      "text/plain": [
       "True"
      ]
     },
     "execution_count": 19,
     "metadata": {},
     "output_type": "execute_result"
    }
   ],
   "source": [
    "r.ok"
   ]
  },
  {
   "cell_type": "code",
   "execution_count": 21,
   "id": "cf8a4e08-4b60-487d-8945-450ec5285733",
   "metadata": {},
   "outputs": [
    {
     "data": {
      "text/plain": [
       "{'Connection': 'keep-alive', 'Content-Length': '90835', 'Server': 'nginx', 'Content-Type': 'image/png', 'ETag': '\"4b66d225-162d3\"', 'Expires': 'Mon, 10 Mar 2025 10:18:10 GMT', 'Cache-Control': 'max-age=300', 'Accept-Ranges': 'bytes', 'Age': '137', 'Date': 'Mon, 10 Mar 2025 10:20:38 GMT', 'Via': '1.1 varnish', 'X-Served-By': 'cache-pdk-katl1840096-PDK', 'X-Cache': 'HIT', 'X-Cache-Hits': '0', 'X-Timer': 'S1741602038.165514,VS0,VE1'}"
      ]
     },
     "execution_count": 21,
     "metadata": {},
     "output_type": "execute_result"
    }
   ],
   "source": [
    "r.headers"
   ]
  },
  {
   "cell_type": "code",
   "execution_count": 14,
   "id": "d6bd3b02-b4f6-438f-934c-aac453929c15",
   "metadata": {},
   "outputs": [],
   "source": [
    "# save the image in a file\n",
    "with open('comic.png','wb') as f:\n",
    "    f.write(r.content)"
   ]
  },
  {
   "cell_type": "markdown",
   "id": "0653084c-345b-447b-85cc-84a9becece7b",
   "metadata": {},
   "source": [
    "## Page 2"
   ]
  },
  {
   "cell_type": "code",
   "execution_count": 23,
   "id": "f1d657a2-4d6d-43b1-b162-3fd0f3e752f5",
   "metadata": {},
   "outputs": [],
   "source": [
    "# url parameters\n",
    "payload={'page':2, 'count':25}"
   ]
  },
  {
   "cell_type": "code",
   "execution_count": 28,
   "id": "3420bc7b-e863-46e4-9121-75abaf6bd682",
   "metadata": {},
   "outputs": [],
   "source": [
    "# get\n",
    "r_get=requests.get('https://httpbin.org/get', params=payload)\n"
   ]
  },
  {
   "cell_type": "code",
   "execution_count": 29,
   "id": "08315cab-4777-4116-8dc4-adcad67d8795",
   "metadata": {},
   "outputs": [
    {
     "data": {
      "text/plain": [
       "'{\\n  \"args\": {\\n    \"count\": \"25\", \\n    \"page\": \"2\"\\n  }, \\n  \"headers\": {\\n    \"Accept\": \"*/*\", \\n    \"Accept-Encoding\": \"gzip, deflate\", \\n    \"Host\": \"httpbin.org\", \\n    \"User-Agent\": \"python-requests/2.32.3\", \\n    \"X-Amzn-Trace-Id\": \"Root=1-67cebf0f-4c1a0f743111812c2ce82b5d\"\\n  }, \\n  \"origin\": \"172.74.100.62\", \\n  \"url\": \"https://httpbin.org/get?page=2&count=25\"\\n}\\n'"
      ]
     },
     "execution_count": 29,
     "metadata": {},
     "output_type": "execute_result"
    }
   ],
   "source": [
    "r_get.text"
   ]
  },
  {
   "cell_type": "code",
   "execution_count": 30,
   "id": "46101758-e7eb-4e67-b1d4-afb87df78ae9",
   "metadata": {},
   "outputs": [
    {
     "data": {
      "text/plain": [
       "'https://httpbin.org/get?page=2&count=25'"
      ]
     },
     "execution_count": 30,
     "metadata": {},
     "output_type": "execute_result"
    }
   ],
   "source": [
    "r_get.url"
   ]
  },
  {
   "cell_type": "code",
   "execution_count": 34,
   "id": "2a547e10-6b57-48d7-b9ca-490fc96dd301",
   "metadata": {},
   "outputs": [],
   "source": [
    "# post\n",
    "payload1= {'username':'corey', 'password':'testing'}\n",
    "r_post=requests.post('https://httpbin.org/post', data=payload1)"
   ]
  },
  {
   "cell_type": "code",
   "execution_count": 35,
   "id": "dbb159cf-108b-4898-90d9-b3fb9a6367c1",
   "metadata": {},
   "outputs": [
    {
     "data": {
      "text/plain": [
       "'{\\n  \"args\": {}, \\n  \"data\": \"\", \\n  \"files\": {}, \\n  \"form\": {\\n    \"password\": \"testing\", \\n    \"username\": \"corey\"\\n  }, \\n  \"headers\": {\\n    \"Accept\": \"*/*\", \\n    \"Accept-Encoding\": \"gzip, deflate\", \\n    \"Content-Length\": \"31\", \\n    \"Content-Type\": \"application/x-www-form-urlencoded\", \\n    \"Host\": \"httpbin.org\", \\n    \"User-Agent\": \"python-requests/2.32.3\", \\n    \"X-Amzn-Trace-Id\": \"Root=1-67cebfa5-54b12edf0898207422808c1f\"\\n  }, \\n  \"json\": null, \\n  \"origin\": \"172.74.100.62\", \\n  \"url\": \"https://httpbin.org/post\"\\n}\\n'"
      ]
     },
     "execution_count": 35,
     "metadata": {},
     "output_type": "execute_result"
    }
   ],
   "source": [
    "r_post.text"
   ]
  },
  {
   "cell_type": "code",
   "execution_count": 37,
   "id": "9cc9ad66-0df2-46dd-986d-509c98e066ce",
   "metadata": {},
   "outputs": [],
   "source": [
    "r_dict=r_post.json()"
   ]
  },
  {
   "cell_type": "code",
   "execution_count": 38,
   "id": "75577912-b032-4081-9def-dc0a5f8b71fa",
   "metadata": {},
   "outputs": [
    {
     "data": {
      "text/plain": [
       "{'args': {},\n",
       " 'data': '',\n",
       " 'files': {},\n",
       " 'form': {'password': 'testing', 'username': 'corey'},\n",
       " 'headers': {'Accept': '*/*',\n",
       "  'Accept-Encoding': 'gzip, deflate',\n",
       "  'Content-Length': '31',\n",
       "  'Content-Type': 'application/x-www-form-urlencoded',\n",
       "  'Host': 'httpbin.org',\n",
       "  'User-Agent': 'python-requests/2.32.3',\n",
       "  'X-Amzn-Trace-Id': 'Root=1-67cebfa5-54b12edf0898207422808c1f'},\n",
       " 'json': None,\n",
       " 'origin': '172.74.100.62',\n",
       " 'url': 'https://httpbin.org/post'}"
      ]
     },
     "execution_count": 38,
     "metadata": {},
     "output_type": "execute_result"
    }
   ],
   "source": [
    "r_dict"
   ]
  },
  {
   "cell_type": "code",
   "execution_count": 40,
   "id": "ef92aea5-068b-4661-83d4-2c2352d07ebc",
   "metadata": {},
   "outputs": [
    {
     "data": {
      "text/plain": [
       "{'password': 'testing', 'username': 'corey'}"
      ]
     },
     "execution_count": 40,
     "metadata": {},
     "output_type": "execute_result"
    }
   ],
   "source": [
    "r_dict['form']"
   ]
  },
  {
   "cell_type": "code",
   "execution_count": 54,
   "id": "65802c01-85c2-4973-b949-643c96e069fe",
   "metadata": {},
   "outputs": [],
   "source": [
    "## Basic Authentication\n",
    "r_basic=requests.get('https://httpbin.org/basic-auth/corey/testing', auth=('corey','testing'))"
   ]
  },
  {
   "cell_type": "code",
   "execution_count": 55,
   "id": "3820138a-f525-40b5-b14a-c1509d445c9e",
   "metadata": {},
   "outputs": [
    {
     "data": {
      "text/plain": [
       "<Response [200]>"
      ]
     },
     "execution_count": 55,
     "metadata": {},
     "output_type": "execute_result"
    }
   ],
   "source": [
    "r_basic"
   ]
  },
  {
   "cell_type": "code",
   "execution_count": 56,
   "id": "4b1803dd-8ba5-41e5-952c-672ce1ee9e26",
   "metadata": {},
   "outputs": [
    {
     "data": {
      "text/plain": [
       "True"
      ]
     },
     "execution_count": 56,
     "metadata": {},
     "output_type": "execute_result"
    }
   ],
   "source": [
    "r_basic.ok"
   ]
  },
  {
   "cell_type": "code",
   "execution_count": 57,
   "id": "0c92f49c-3818-4990-85ad-b8233f89ec3c",
   "metadata": {},
   "outputs": [
    {
     "data": {
      "text/plain": [
       "'{\\n  \"authenticated\": true, \\n  \"user\": \"corey\"\\n}\\n'"
      ]
     },
     "execution_count": 57,
     "metadata": {},
     "output_type": "execute_result"
    }
   ],
   "source": [
    "r_basic.text"
   ]
  },
  {
   "cell_type": "code",
   "execution_count": null,
   "id": "95b5ff21-fec0-4ef1-8fde-ecbd2541d26a",
   "metadata": {},
   "outputs": [],
   "source": []
  }
 ],
 "metadata": {
  "kernelspec": {
   "display_name": "Python 3 (ipykernel)",
   "language": "python",
   "name": "python3"
  },
  "language_info": {
   "codemirror_mode": {
    "name": "ipython",
    "version": 3
   },
   "file_extension": ".py",
   "mimetype": "text/x-python",
   "name": "python",
   "nbconvert_exporter": "python",
   "pygments_lexer": "ipython3",
   "version": "3.13.1"
  }
 },
 "nbformat": 4,
 "nbformat_minor": 5
}
