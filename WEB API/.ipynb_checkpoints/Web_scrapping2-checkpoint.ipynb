{
 "cells": [
  {
   "cell_type": "code",
   "execution_count": 1,
   "id": "c77115a9-76c1-4aec-8d32-07d3e007fe57",
   "metadata": {},
   "outputs": [],
   "source": [
    "from bs4 import BeautifulSoup"
   ]
  },
  {
   "cell_type": "code",
   "execution_count": 3,
   "id": "c8da22f7-c3a7-446c-b494-6f8e3b156e15",
   "metadata": {},
   "outputs": [],
   "source": [
    "with open('index.html', 'r') as f:\n",
    "    doc=BeautifulSoup(f, 'html')"
   ]
  },
  {
   "cell_type": "code",
   "execution_count": 6,
   "id": "4e2f2876-306d-476d-b941-89d742f62fdc",
   "metadata": {},
   "outputs": [
    {
     "data": {
      "text/plain": [
       "<html>\n",
       "<head>\n",
       "<title>Your Title Here</title>\n",
       "</head>\n",
       "<body bgcolor=\"FFFFFF\">\n",
       "<center><img align=\"BOTTOM\" src=\"clouds.jpg\"/> </center>\n",
       "<hr/>\n",
       "<a href=\"http://somegreatsite.com\">Link Name</a>\n",
       "\n",
       "is a link to another nifty site\n",
       "\n",
       "<h1>This is a Header</h1>\n",
       "<h2>This is a Medium Header</h2>\n",
       "\n",
       "Send me mail at <a href=\"mailto:support@yourcompany.com\">\n",
       "\n",
       "support@yourcompany.com</a>.\n",
       "\n",
       "<p> This is a new paragraph!\n",
       "\n",
       "<p> <b color=\"red\">This is a new paragraph!</b>\n",
       "<br/> <b><i>This is a new sentence without a paragraph break, in bold italics.</i></b>\n",
       "<hr/>\n",
       "</p></p></body>\n",
       "</html>"
      ]
     },
     "execution_count": 6,
     "metadata": {},
     "output_type": "execute_result"
    }
   ],
   "source": [
    "doc"
   ]
  },
  {
   "cell_type": "markdown",
   "id": "27d2ae4e-4222-4be9-94b5-4c9f5583e838",
   "metadata": {},
   "source": [
    "## Find by Tag name"
   ]
  },
  {
   "cell_type": "code",
   "execution_count": 7,
   "id": "4c96a97e-95da-4ace-8350-54c7b6164d00",
   "metadata": {},
   "outputs": [],
   "source": [
    "tag=doc.title"
   ]
  },
  {
   "cell_type": "code",
   "execution_count": 8,
   "id": "fcfb8c12-b569-4ccc-b899-7d8e362cf796",
   "metadata": {},
   "outputs": [
    {
     "data": {
      "text/plain": [
       "<title>Your Title Here</title>"
      ]
     },
     "execution_count": 8,
     "metadata": {},
     "output_type": "execute_result"
    }
   ],
   "source": [
    "tag"
   ]
  },
  {
   "cell_type": "code",
   "execution_count": 9,
   "id": "5918f91f-251a-411e-8629-1289d5235d55",
   "metadata": {},
   "outputs": [],
   "source": [
    "tag.string=\"Hello\""
   ]
  },
  {
   "cell_type": "code",
   "execution_count": 10,
   "id": "eeefe6ce-fec6-4a2e-b195-05d6a37087bb",
   "metadata": {},
   "outputs": [
    {
     "data": {
      "text/plain": [
       "<title>Hello</title>"
      ]
     },
     "execution_count": 10,
     "metadata": {},
     "output_type": "execute_result"
    }
   ],
   "source": [
    "tag"
   ]
  },
  {
   "cell_type": "code",
   "execution_count": 11,
   "id": "c11b3495-d436-466e-9f0a-0def57e6c8de",
   "metadata": {},
   "outputs": [
    {
     "data": {
      "text/plain": [
       "<html>\n",
       "<head>\n",
       "<title>Hello</title>\n",
       "</head>\n",
       "<body bgcolor=\"FFFFFF\">\n",
       "<center><img align=\"BOTTOM\" src=\"clouds.jpg\"/> </center>\n",
       "<hr/>\n",
       "<a href=\"http://somegreatsite.com\">Link Name</a>\n",
       "\n",
       "is a link to another nifty site\n",
       "\n",
       "<h1>This is a Header</h1>\n",
       "<h2>This is a Medium Header</h2>\n",
       "\n",
       "Send me mail at <a href=\"mailto:support@yourcompany.com\">\n",
       "\n",
       "support@yourcompany.com</a>.\n",
       "\n",
       "<p> This is a new paragraph!\n",
       "\n",
       "<p> <b color=\"red\">This is a new paragraph!</b>\n",
       "<br/> <b><i>This is a new sentence without a paragraph break, in bold italics.</i></b>\n",
       "<hr/>\n",
       "</p></p></body>\n",
       "</html>"
      ]
     },
     "execution_count": 11,
     "metadata": {},
     "output_type": "execute_result"
    }
   ],
   "source": [
    "doc"
   ]
  },
  {
   "cell_type": "code",
   "execution_count": 12,
   "id": "a364c561-d80e-44df-b5a9-f1fb201f4003",
   "metadata": {},
   "outputs": [],
   "source": [
    "tags=doc.find_all('p')"
   ]
  },
  {
   "cell_type": "code",
   "execution_count": 13,
   "id": "35ccbd83-8310-4980-b435-96ba17f89f68",
   "metadata": {},
   "outputs": [
    {
     "data": {
      "text/plain": [
       "[<p> This is a new paragraph!\n",
       " \n",
       " <p> <b color=\"red\">This is a new paragraph!</b>\n",
       " <br/> <b><i>This is a new sentence without a paragraph break, in bold italics.</i></b>\n",
       " <hr/>\n",
       " </p></p>,\n",
       " <p> <b color=\"red\">This is a new paragraph!</b>\n",
       " <br/> <b><i>This is a new sentence without a paragraph break, in bold italics.</i></b>\n",
       " <hr/>\n",
       " </p>]"
      ]
     },
     "execution_count": 13,
     "metadata": {},
     "output_type": "execute_result"
    }
   ],
   "source": [
    "tags"
   ]
  },
  {
   "cell_type": "code",
   "execution_count": 14,
   "id": "7ddee3b9-dd8d-420f-b61e-155f3121ccc2",
   "metadata": {},
   "outputs": [
    {
     "data": {
      "text/plain": [
       "<p> This is a new paragraph!\n",
       "\n",
       "<p> <b color=\"red\">This is a new paragraph!</b>\n",
       "<br/> <b><i>This is a new sentence without a paragraph break, in bold italics.</i></b>\n",
       "<hr/>\n",
       "</p></p>"
      ]
     },
     "execution_count": 14,
     "metadata": {},
     "output_type": "execute_result"
    }
   ],
   "source": [
    "tags[0]"
   ]
  },
  {
   "cell_type": "markdown",
   "id": "5a040a72-ebef-4493-8ceb-75b3e04399e1",
   "metadata": {},
   "source": [
    "## Parsing Website Html"
   ]
  },
  {
   "cell_type": "code",
   "execution_count": 16,
   "id": "1f632c20-a6c7-410a-a2ba-9e3b02d99149",
   "metadata": {},
   "outputs": [],
   "source": [
    "import requests"
   ]
  },
  {
   "cell_type": "code",
   "execution_count": 78,
   "id": "1f2b3169-7492-4af4-916d-0c9b959c5ca9",
   "metadata": {},
   "outputs": [],
   "source": [
    "url='https://books.toscrape.com/catalogue/a-light-in-the-attic_1000/index.html'"
   ]
  },
  {
   "cell_type": "code",
   "execution_count": 79,
   "id": "3baef791-2842-41bb-b410-3e3d5370e7d4",
   "metadata": {},
   "outputs": [],
   "source": [
    "page=requests.get(url)"
   ]
  },
  {
   "cell_type": "code",
   "execution_count": 80,
   "id": "84f5a554-6a65-42ad-b1ef-1fef4971b257",
   "metadata": {},
   "outputs": [
    {
     "data": {
      "text/plain": [
       "<Response [200]>"
      ]
     },
     "execution_count": 80,
     "metadata": {},
     "output_type": "execute_result"
    }
   ],
   "source": [
    "page"
   ]
  },
  {
   "cell_type": "code",
   "execution_count": 92,
   "id": "bc208152-8543-411e-a58b-557254105d74",
   "metadata": {},
   "outputs": [],
   "source": [
    "page.encoding=\"utf-8\""
   ]
  },
  {
   "cell_type": "code",
   "execution_count": 93,
   "id": "0df44458-1b0e-4103-bb4e-ac53505762b4",
   "metadata": {
    "scrolled": true
   },
   "outputs": [
    {
     "data": {
      "text/plain": [
       "'\\n\\n<!DOCTYPE html>\\n<!--[if lt IE 7]>      <html lang=\"en-us\" class=\"no-js lt-ie9 lt-ie8 lt-ie7\"> <![endif]-->\\n<!--[if IE 7]>         <html lang=\"en-us\" class=\"no-js lt-ie9 lt-ie8\"> <![endif]-->\\n<!--[if IE 8]>         <html lang=\"en-us\" class=\"no-js lt-ie9\"> <![endif]-->\\n<!--[if gt IE 8]><!--> <html lang=\"en-us\" class=\"no-js\"> <!--<![endif]-->\\n    <head>\\n        <title>\\n    A Light in the Attic | Books to Scrape - Sandbox\\n</title>\\n\\n        <meta http-equiv=\"content-type\" content=\"text/html; charset=UTF-8\" />\\n        <meta name=\"created\" content=\"24th Jun 2016 09:29\" />\\n        <meta name=\"description\" content=\"\\n    It&#39;s hard to imagine a world without A Light in the Attic. This now-classic collection of poetry and drawings from Shel Silverstein celebrates its 20th anniversary with this special edition. Silverstein&#39;s humorous and creative verse can amuse the dowdiest of readers. Lemon-faced adults and fidgety kids sit still and read these rhythmic words and laugh and smile and love th It&#39;s hard to imagine a world without A Light in the Attic. This now-classic collection of poetry and drawings from Shel Silverstein celebrates its 20th anniversary with this special edition. Silverstein&#39;s humorous and creative verse can amuse the dowdiest of readers. Lemon-faced adults and fidgety kids sit still and read these rhythmic words and laugh and smile and love that Silverstein. Need proof of his genius? RockabyeRockabye baby, in the treetopDon&#39;t you know a treetopIs no safe place to rock?And who put you up there,And your cradle, too?Baby, I think someone down here&#39;sGot it in for you. Shel, you never sounded so good. ...more\\n\" />\\n        <meta name=\"viewport\" content=\"width=device-width\" />\\n        <meta name=\"robots\" content=\"NOARCHIVE,NOCACHE\" />\\n\\n        <!-- Le HTML5 shim, for IE6-8 support of HTML elements -->\\n        <!--[if lt IE 9]>\\n        <script src=\"//html5shim.googlecode.com/svn/trunk/html5.js\"></script>\\n        <![endif]-->\\n\\n        \\n            <link rel=\"shortcut icon\" href=\"../../static/oscar/favicon.ico\" />\\n        \\n\\n        \\n        \\n    \\n    \\n        <link rel=\"stylesheet\" type=\"text/css\" href=\"../../static/oscar/css/styles.css\" />\\n    \\n    <link rel=\"stylesheet\" href=\"../../static/oscar/js/bootstrap-datetimepicker/bootstrap-datetimepicker.css\" />\\n    <link rel=\"stylesheet\" type=\"text/css\" href=\"../../static/oscar/css/datetimepicker.css\" />\\n\\n\\n        \\n        \\n\\n        \\n\\n        \\n            \\n            \\n\\n        \\n    </head>\\n\\n    <body id=\"default\" class=\"default\">\\n        \\n        \\n    \\n    \\n    <header class=\"header container-fluid\">\\n        <div class=\"page_inner\">\\n            <div class=\"row\">\\n                <div class=\"col-sm-8 h1\"><a href=\"../../index.html\">Books to Scrape</a><small> We love being scraped!</small>\\n</div>\\n\\n                \\n            </div>\\n        </div>\\n    </header>\\n\\n    \\n    \\n        <div class=\"container-fluid page\">\\n            <div class=\"page_inner\">\\n                \\n<ul class=\"breadcrumb\">\\n    <li>\\n        <a href=\"../../index.html\">Home</a>\\n    </li>\\n    \\n        \\n        <li>\\n            <a href=\"../category/books_1/index.html\">Books</a>\\n        </li>\\n        \\n        <li>\\n            <a href=\"../category/books/poetry_23/index.html\">Poetry</a>\\n        </li>\\n        \\n        <li class=\"active\">A Light in the Attic</li>\\n\\n        \\n        \\n    \\n</ul>\\n\\n                \\n\\n                \\n\\n\\n\\n<div id=\"messages\">\\n\\n</div>\\n\\n                \\n                <div class=\"content\">\\n                    \\n\\n                    \\n                    <div id=\"promotions\">\\n                        \\n                    </div>\\n\\n                    \\n                    <div id=\"content_inner\">\\n\\n<article class=\"product_page\"><!-- Start of product page -->\\n\\n    <div class=\"row\">\\n\\n        \\n        <div class=\"col-sm-6\">\\n            \\n\\n\\n\\n\\n    \\n\\n    \\n\\n        \\n        <div id=\"product_gallery\" class=\"carousel\">\\n            <div class=\"thumbnail\">\\n                <div class=\"carousel-inner\">\\n                    <div class=\"item active\">\\n                    \\n                        \\n                            <img src=\"../../media/cache/fe/72/fe72f0532301ec28892ae79a629a293c.jpg\" alt=\"A Light in the Attic\" />\\n                        \\n                    \\n                    </div>\\n                </div>\\n            </div>\\n        </div>\\n\\n    \\n\\n\\n        </div>\\n        \\n\\n        \\n        <div class=\"col-sm-6 product_main\">\\n            \\n            \\n            <h1>A Light in the Attic</h1>\\n\\n            \\n                \\n\\n\\n\\n\\n\\n\\n    \\n        <p class=\"price_color\">£51.77</p>\\n    \\n\\n<p class=\"instock availability\">\\n    <i class=\"icon-ok\"></i>\\n    \\n        In stock (22 available)\\n    \\n</p>\\n\\n            \\n\\n            \\n                \\n\\n\\n\\n    <p class=\"star-rating Three\">\\n        <i class=\"icon-star\"></i>\\n        <i class=\"icon-star\"></i>\\n        <i class=\"icon-star\"></i>\\n        <i class=\"icon-star\"></i>\\n        <i class=\"icon-star\"></i>\\n\\n        <!-- <small><a href=\"/catalogue/a-light-in-the-attic_1000/reviews/\">\\n        \\n                \\n                    0 customer reviews\\n                \\n        </a></small>\\n         -->&nbsp;\\n\\n\\n<!-- \\n    <a id=\"write_review\" href=\"/catalogue/a-light-in-the-attic_1000/reviews/add/#addreview\" class=\"btn btn-success btn-sm\">\\n        Write a review\\n    </a>\\n\\n --></p>\\n\\n            \\n\\n            <hr/>\\n\\n            <div class=\"alert alert-warning\" role=\"alert\"><strong>Warning!</strong> This is a demo website for web scraping purposes. Prices and ratings here were randomly assigned and have no real meaning.</div>\\n\\n\\n            \\n                \\n\\n\\n\\n\\n\\n\\n            \\n        </div><!-- /col-sm-6 -->\\n        \\n\\n    </div><!-- /row -->\\n\\n    \\n        \\n        <div id=\"product_description\" class=\"sub-header\">\\n            <h2>Product Description</h2>\\n        </div>\\n        <p>It\\'s hard to imagine a world without A Light in the Attic. This now-classic collection of poetry and drawings from Shel Silverstein celebrates its 20th anniversary with this special edition. Silverstein\\'s humorous and creative verse can amuse the dowdiest of readers. Lemon-faced adults and fidgety kids sit still and read these rhythmic words and laugh and smile and love th It\\'s hard to imagine a world without A Light in the Attic. This now-classic collection of poetry and drawings from Shel Silverstein celebrates its 20th anniversary with this special edition. Silverstein\\'s humorous and creative verse can amuse the dowdiest of readers. Lemon-faced adults and fidgety kids sit still and read these rhythmic words and laugh and smile and love that Silverstein. Need proof of his genius? RockabyeRockabye baby, in the treetopDon\\'t you know a treetopIs no safe place to rock?And who put you up there,And your cradle, too?Baby, I think someone down here\\'sGot it in for you. Shel, you never sounded so good. ...more</p>\\n        \\n    \\n\\n    \\n    <div class=\"sub-header\">\\n        <h2>Product Information</h2>\\n    </div>\\n    <table class=\"table table-striped\">\\n        \\n        <tr>\\n            <th>UPC</th><td>a897fe39b1053632</td>\\n        </tr>\\n        \\n        <tr>\\n            <th>Product Type</th><td>Books</td>\\n        </tr>\\n\\n        \\n        \\n            <tr>\\n                <th>Price (excl. tax)</th><td>£51.77</td>\\n            </tr>\\n            \\n                <tr>\\n                    <th>Price (incl. tax)</th><td>£51.77</td>\\n                </tr>\\n                <tr>\\n                    <th>Tax</th><td>£0.00</td>\\n                </tr>\\n            \\n            <tr>\\n                <th>Availability</th>\\n                <td>In stock (22 available)</td>\\n            </tr>\\n        \\n        \\n        \\n            <tr>\\n                <th>Number of reviews</th>\\n                <td>0</td>\\n            </tr>\\n        \\n    </table>\\n    \\n\\n    \\n        \\n        <section>\\n            <div id=\"reviews\" class=\"sub-header\">\\n            </div>\\n        </section>\\n        \\n    \\n\\n    \\n        \\n    \\n\\n    \\n\\n\\n\\n    \\n\\n\\n\\n</article><!-- End of product page -->\\n</div>\\n                </div>\\n            </div>\\n        </div>\\n    \\n\\n    \\n<footer class=\"footer container-fluid\">\\n    \\n        \\n    \\n</footer>\\n\\n\\n        \\n        \\n  \\n            <!-- jQuery -->\\n            <script src=\"http://ajax.googleapis.com/ajax/libs/jquery/1.9.1/jquery.min.js\"></script>\\n            <script>window.jQuery || document.write(\\'<script src=\"../../static/oscar/js/jquery/jquery-1.9.1.min.js\"><\\\\/script>\\')</script>\\n        \\n  \\n\\n\\n        \\n        \\n    \\n        \\n    <!-- Twitter Bootstrap -->\\n    <script type=\"text/javascript\" src=\"../../static/oscar/js/bootstrap3/bootstrap.min.js\"></script>\\n    <!-- Oscar -->\\n    <script src=\"../../static/oscar/js/oscar/ui.js\" type=\"text/javascript\" charset=\"utf-8\"></script>\\n\\n    <script src=\"../../static/oscar/js/bootstrap-datetimepicker/bootstrap-datetimepicker.js\" type=\"text/javascript\" charset=\"utf-8\"></script>\\n    <script src=\"../../static/oscar/js/bootstrap-datetimepicker/locales/bootstrap-datetimepicker.all.js\" type=\"text/javascript\" charset=\"utf-8\"></script>\\n\\n\\n        \\n        \\n    \\n    \\n\\n    \\n\\n\\n\\n        \\n        <script type=\"text/javascript\">\\n            $(function() {\\n                \\n    \\n    oscar.init();\\n\\n            });\\n        </script>\\n\\n        \\n        <!-- Version: N/A -->\\n        \\n    </body>\\n</html>\\n'"
      ]
     },
     "execution_count": 93,
     "metadata": {},
     "output_type": "execute_result"
    }
   ],
   "source": [
    "page.text"
   ]
  },
  {
   "cell_type": "code",
   "execution_count": 94,
   "id": "ac5384fe-7d50-4bb5-ae7d-e24fcd28a2ed",
   "metadata": {},
   "outputs": [],
   "source": [
    "doc =  BeautifulSoup(page.text, 'html.parser')"
   ]
  },
  {
   "cell_type": "code",
   "execution_count": 95,
   "id": "3d7962a5-a4b3-45b0-b790-ec14e4dc52a5",
   "metadata": {
    "scrolled": true
   },
   "outputs": [
    {
     "data": {
      "text/plain": [
       "\n",
       "<!DOCTYPE html>\n",
       "\n",
       "<!--[if lt IE 7]>      <html lang=\"en-us\" class=\"no-js lt-ie9 lt-ie8 lt-ie7\"> <![endif]-->\n",
       "<!--[if IE 7]>         <html lang=\"en-us\" class=\"no-js lt-ie9 lt-ie8\"> <![endif]-->\n",
       "<!--[if IE 8]>         <html lang=\"en-us\" class=\"no-js lt-ie9\"> <![endif]-->\n",
       "<!--[if gt IE 8]><!--> <html class=\"no-js\" lang=\"en-us\"> <!--<![endif]-->\n",
       "<head>\n",
       "<title>\n",
       "    A Light in the Attic | Books to Scrape - Sandbox\n",
       "</title>\n",
       "<meta content=\"text/html; charset=utf-8\" http-equiv=\"content-type\"/>\n",
       "<meta content=\"24th Jun 2016 09:29\" name=\"created\"/>\n",
       "<meta content=\"\n",
       "    It's hard to imagine a world without A Light in the Attic. This now-classic collection of poetry and drawings from Shel Silverstein celebrates its 20th anniversary with this special edition. Silverstein's humorous and creative verse can amuse the dowdiest of readers. Lemon-faced adults and fidgety kids sit still and read these rhythmic words and laugh and smile and love th It's hard to imagine a world without A Light in the Attic. This now-classic collection of poetry and drawings from Shel Silverstein celebrates its 20th anniversary with this special edition. Silverstein's humorous and creative verse can amuse the dowdiest of readers. Lemon-faced adults and fidgety kids sit still and read these rhythmic words and laugh and smile and love that Silverstein. Need proof of his genius? RockabyeRockabye baby, in the treetopDon't you know a treetopIs no safe place to rock?And who put you up there,And your cradle, too?Baby, I think someone down here'sGot it in for you. Shel, you never sounded so good. ...more\n",
       "\" name=\"description\"/>\n",
       "<meta content=\"width=device-width\" name=\"viewport\"/>\n",
       "<meta content=\"NOARCHIVE,NOCACHE\" name=\"robots\"/>\n",
       "<!-- Le HTML5 shim, for IE6-8 support of HTML elements -->\n",
       "<!--[if lt IE 9]>\n",
       "        <script src=\"//html5shim.googlecode.com/svn/trunk/html5.js\"></script>\n",
       "        <![endif]-->\n",
       "<link href=\"../../static/oscar/favicon.ico\" rel=\"shortcut icon\"/>\n",
       "<link href=\"../../static/oscar/css/styles.css\" rel=\"stylesheet\" type=\"text/css\"/>\n",
       "<link href=\"../../static/oscar/js/bootstrap-datetimepicker/bootstrap-datetimepicker.css\" rel=\"stylesheet\"/>\n",
       "<link href=\"../../static/oscar/css/datetimepicker.css\" rel=\"stylesheet\" type=\"text/css\"/>\n",
       "</head>\n",
       "<body class=\"default\" id=\"default\">\n",
       "<header class=\"header container-fluid\">\n",
       "<div class=\"page_inner\">\n",
       "<div class=\"row\">\n",
       "<div class=\"col-sm-8 h1\"><a href=\"../../index.html\">Books to Scrape</a><small> We love being scraped!</small>\n",
       "</div>\n",
       "</div>\n",
       "</div>\n",
       "</header>\n",
       "<div class=\"container-fluid page\">\n",
       "<div class=\"page_inner\">\n",
       "<ul class=\"breadcrumb\">\n",
       "<li>\n",
       "<a href=\"../../index.html\">Home</a>\n",
       "</li>\n",
       "<li>\n",
       "<a href=\"../category/books_1/index.html\">Books</a>\n",
       "</li>\n",
       "<li>\n",
       "<a href=\"../category/books/poetry_23/index.html\">Poetry</a>\n",
       "</li>\n",
       "<li class=\"active\">A Light in the Attic</li>\n",
       "</ul>\n",
       "<div id=\"messages\">\n",
       "</div>\n",
       "<div class=\"content\">\n",
       "<div id=\"promotions\">\n",
       "</div>\n",
       "<div id=\"content_inner\">\n",
       "<article class=\"product_page\"><!-- Start of product page -->\n",
       "<div class=\"row\">\n",
       "<div class=\"col-sm-6\">\n",
       "<div class=\"carousel\" id=\"product_gallery\">\n",
       "<div class=\"thumbnail\">\n",
       "<div class=\"carousel-inner\">\n",
       "<div class=\"item active\">\n",
       "<img alt=\"A Light in the Attic\" src=\"../../media/cache/fe/72/fe72f0532301ec28892ae79a629a293c.jpg\"/>\n",
       "</div>\n",
       "</div>\n",
       "</div>\n",
       "</div>\n",
       "</div>\n",
       "<div class=\"col-sm-6 product_main\">\n",
       "<h1>A Light in the Attic</h1>\n",
       "<p class=\"price_color\">£51.77</p>\n",
       "<p class=\"instock availability\">\n",
       "<i class=\"icon-ok\"></i>\n",
       "    \n",
       "        In stock (22 available)\n",
       "    \n",
       "</p>\n",
       "<p class=\"star-rating Three\">\n",
       "<i class=\"icon-star\"></i>\n",
       "<i class=\"icon-star\"></i>\n",
       "<i class=\"icon-star\"></i>\n",
       "<i class=\"icon-star\"></i>\n",
       "<i class=\"icon-star\"></i>\n",
       "<!-- <small><a href=\"/catalogue/a-light-in-the-attic_1000/reviews/\">\n",
       "        \n",
       "                \n",
       "                    0 customer reviews\n",
       "                \n",
       "        </a></small>\n",
       "         --> \n",
       "\n",
       "\n",
       "<!-- \n",
       "    <a id=\"write_review\" href=\"/catalogue/a-light-in-the-attic_1000/reviews/add/#addreview\" class=\"btn btn-success btn-sm\">\n",
       "        Write a review\n",
       "    </a>\n",
       "\n",
       " --></p>\n",
       "<hr/>\n",
       "<div class=\"alert alert-warning\" role=\"alert\"><strong>Warning!</strong> This is a demo website for web scraping purposes. Prices and ratings here were randomly assigned and have no real meaning.</div>\n",
       "</div><!-- /col-sm-6 -->\n",
       "</div><!-- /row -->\n",
       "<div class=\"sub-header\" id=\"product_description\">\n",
       "<h2>Product Description</h2>\n",
       "</div>\n",
       "<p>It's hard to imagine a world without A Light in the Attic. This now-classic collection of poetry and drawings from Shel Silverstein celebrates its 20th anniversary with this special edition. Silverstein's humorous and creative verse can amuse the dowdiest of readers. Lemon-faced adults and fidgety kids sit still and read these rhythmic words and laugh and smile and love th It's hard to imagine a world without A Light in the Attic. This now-classic collection of poetry and drawings from Shel Silverstein celebrates its 20th anniversary with this special edition. Silverstein's humorous and creative verse can amuse the dowdiest of readers. Lemon-faced adults and fidgety kids sit still and read these rhythmic words and laugh and smile and love that Silverstein. Need proof of his genius? RockabyeRockabye baby, in the treetopDon't you know a treetopIs no safe place to rock?And who put you up there,And your cradle, too?Baby, I think someone down here'sGot it in for you. Shel, you never sounded so good. ...more</p>\n",
       "<div class=\"sub-header\">\n",
       "<h2>Product Information</h2>\n",
       "</div>\n",
       "<table class=\"table table-striped\">\n",
       "<tr>\n",
       "<th>UPC</th><td>a897fe39b1053632</td>\n",
       "</tr>\n",
       "<tr>\n",
       "<th>Product Type</th><td>Books</td>\n",
       "</tr>\n",
       "<tr>\n",
       "<th>Price (excl. tax)</th><td>£51.77</td>\n",
       "</tr>\n",
       "<tr>\n",
       "<th>Price (incl. tax)</th><td>£51.77</td>\n",
       "</tr>\n",
       "<tr>\n",
       "<th>Tax</th><td>£0.00</td>\n",
       "</tr>\n",
       "<tr>\n",
       "<th>Availability</th>\n",
       "<td>In stock (22 available)</td>\n",
       "</tr>\n",
       "<tr>\n",
       "<th>Number of reviews</th>\n",
       "<td>0</td>\n",
       "</tr>\n",
       "</table>\n",
       "<section>\n",
       "<div class=\"sub-header\" id=\"reviews\">\n",
       "</div>\n",
       "</section>\n",
       "</article><!-- End of product page -->\n",
       "</div>\n",
       "</div>\n",
       "</div>\n",
       "</div>\n",
       "<footer class=\"footer container-fluid\">\n",
       "</footer>\n",
       "<!-- jQuery -->\n",
       "<script src=\"http://ajax.googleapis.com/ajax/libs/jquery/1.9.1/jquery.min.js\"></script>\n",
       "<script>window.jQuery || document.write('<script src=\"../../static/oscar/js/jquery/jquery-1.9.1.min.js\"><\\/script>')</script>\n",
       "<!-- Twitter Bootstrap -->\n",
       "<script src=\"../../static/oscar/js/bootstrap3/bootstrap.min.js\" type=\"text/javascript\"></script>\n",
       "<!-- Oscar -->\n",
       "<script charset=\"utf-8\" src=\"../../static/oscar/js/oscar/ui.js\" type=\"text/javascript\"></script>\n",
       "<script charset=\"utf-8\" src=\"../../static/oscar/js/bootstrap-datetimepicker/bootstrap-datetimepicker.js\" type=\"text/javascript\"></script>\n",
       "<script charset=\"utf-8\" src=\"../../static/oscar/js/bootstrap-datetimepicker/locales/bootstrap-datetimepicker.all.js\" type=\"text/javascript\"></script>\n",
       "<script type=\"text/javascript\">\n",
       "            $(function() {\n",
       "                \n",
       "    \n",
       "    oscar.init();\n",
       "\n",
       "            });\n",
       "        </script>\n",
       "<!-- Version: N/A -->\n",
       "</body>\n",
       "</html>"
      ]
     },
     "execution_count": 95,
     "metadata": {},
     "output_type": "execute_result"
    }
   ],
   "source": [
    "doc"
   ]
  },
  {
   "cell_type": "markdown",
   "id": "723fc25a-6341-4b47-9c96-f1fe3b24d633",
   "metadata": {},
   "source": [
    "## Locating Text"
   ]
  },
  {
   "cell_type": "code",
   "execution_count": 96,
   "id": "d7bd1fcd-7e24-48fd-a0db-cfbea4896ab9",
   "metadata": {},
   "outputs": [],
   "source": [
    "prices=doc.find_all('p')[0]"
   ]
  },
  {
   "cell_type": "code",
   "execution_count": 98,
   "id": "635022ad-514b-4b08-b062-6aab429b83a7",
   "metadata": {},
   "outputs": [
    {
     "data": {
      "text/plain": [
       "<p class=\"price_color\">£51.77</p>"
      ]
     },
     "execution_count": 98,
     "metadata": {},
     "output_type": "execute_result"
    }
   ],
   "source": [
    "prices"
   ]
  },
  {
   "cell_type": "code",
   "execution_count": 97,
   "id": "ddbdc48b-bc0c-4a8b-94a2-2df08f17d401",
   "metadata": {},
   "outputs": [
    {
     "data": {
      "text/plain": [
       "'£51.77'"
      ]
     },
     "execution_count": 97,
     "metadata": {},
     "output_type": "execute_result"
    }
   ],
   "source": [
    "prices.text"
   ]
  },
  {
   "cell_type": "code",
   "execution_count": null,
   "id": "dc56b39c-8a84-4e48-ad53-8638df05104e",
   "metadata": {},
   "outputs": [],
   "source": []
  }
 ],
 "metadata": {
  "kernelspec": {
   "display_name": "Python 3 (ipykernel)",
   "language": "python",
   "name": "python3"
  },
  "language_info": {
   "codemirror_mode": {
    "name": "ipython",
    "version": 3
   },
   "file_extension": ".py",
   "mimetype": "text/x-python",
   "name": "python",
   "nbconvert_exporter": "python",
   "pygments_lexer": "ipython3",
   "version": "3.13.1"
  }
 },
 "nbformat": 4,
 "nbformat_minor": 5
}
